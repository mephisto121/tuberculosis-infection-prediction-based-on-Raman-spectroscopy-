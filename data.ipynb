{
 "cells": [
  {
   "cell_type": "code",
   "execution_count": 1,
   "metadata": {},
   "outputs": [
    {
     "name": "stderr",
     "output_type": "stream",
     "text": [
      "f:\\anaconda\\lib\\site-packages\\numpy\\_distributor_init.py:30: UserWarning: loaded more than 1 DLL from .libs:\n",
      "f:\\anaconda\\lib\\site-packages\\numpy\\.libs\\libopenblas.EL2C6PLE4ZYW3ECEVIV3OXXGRN2NRFM2.gfortran-win_amd64.dll\n",
      "f:\\anaconda\\lib\\site-packages\\numpy\\.libs\\libopenblas.WCDJNK7YVMPZQ2ME2ZZHJJRJ3JIKNDB7.gfortran-win_amd64.dll\n",
      "  warnings.warn(\"loaded more than 1 DLL from .libs:\"\n"
     ]
    }
   ],
   "source": [
    "import pandas as pd\n",
    "import numpy as np\n",
    "from sklearn.preprocessing import LabelEncoder"
   ]
  },
  {
   "cell_type": "code",
   "execution_count": 2,
   "metadata": {},
   "outputs": [
    {
     "data": {
      "text/html": [
       "<div>\n",
       "<style scoped>\n",
       "    .dataframe tbody tr th:only-of-type {\n",
       "        vertical-align: middle;\n",
       "    }\n",
       "\n",
       "    .dataframe tbody tr th {\n",
       "        vertical-align: top;\n",
       "    }\n",
       "\n",
       "    .dataframe thead th {\n",
       "        text-align: right;\n",
       "    }\n",
       "</style>\n",
       "<table border=\"1\" class=\"dataframe\">\n",
       "  <thead>\n",
       "    <tr style=\"text-align: right;\">\n",
       "      <th></th>\n",
       "      <th>Unnamed: 0</th>\n",
       "      <th>Supplementary Table: Table S1:  Raw data of peak intensities at each peak position generated from RS and SERS from all TB-infection categories.</th>\n",
       "      <th>Unnamed: 2</th>\n",
       "      <th>Unnamed: 3</th>\n",
       "      <th>Unnamed: 4</th>\n",
       "      <th>Unnamed: 5</th>\n",
       "      <th>Unnamed: 6</th>\n",
       "      <th>Unnamed: 7</th>\n",
       "      <th>Unnamed: 8</th>\n",
       "      <th>Unnamed: 9</th>\n",
       "      <th>...</th>\n",
       "      <th>Unnamed: 1002</th>\n",
       "      <th>Unnamed: 1003</th>\n",
       "      <th>Unnamed: 1004</th>\n",
       "      <th>Unnamed: 1005</th>\n",
       "      <th>Unnamed: 1006</th>\n",
       "      <th>Unnamed: 1007</th>\n",
       "      <th>Unnamed: 1008</th>\n",
       "      <th>Unnamed: 1009</th>\n",
       "      <th>Unnamed: 1010</th>\n",
       "      <th>Unnamed: 1011</th>\n",
       "    </tr>\n",
       "  </thead>\n",
       "  <tbody>\n",
       "    <tr>\n",
       "      <th>0</th>\n",
       "      <td>RS 532 nm</td>\n",
       "      <td>NaN</td>\n",
       "      <td>NaN</td>\n",
       "      <td>NaN</td>\n",
       "      <td>NaN</td>\n",
       "      <td>NaN</td>\n",
       "      <td>NaN</td>\n",
       "      <td>NaN</td>\n",
       "      <td>NaN</td>\n",
       "      <td>NaN</td>\n",
       "      <td>...</td>\n",
       "      <td>NaN</td>\n",
       "      <td>NaN</td>\n",
       "      <td>NaN</td>\n",
       "      <td>NaN</td>\n",
       "      <td>NaN</td>\n",
       "      <td>NaN</td>\n",
       "      <td>NaN</td>\n",
       "      <td>NaN</td>\n",
       "      <td>NaN</td>\n",
       "      <td>NaN</td>\n",
       "    </tr>\n",
       "    <tr>\n",
       "      <th>1</th>\n",
       "      <td>Sample names</td>\n",
       "      <td>groups</td>\n",
       "      <td>179.568359</td>\n",
       "      <td>181.511719</td>\n",
       "      <td>183.453125</td>\n",
       "      <td>185.394531</td>\n",
       "      <td>187.335938</td>\n",
       "      <td>189.275391</td>\n",
       "      <td>191.214844</td>\n",
       "      <td>193.154297</td>\n",
       "      <td>...</td>\n",
       "      <td>1912.980469</td>\n",
       "      <td>1914.531250</td>\n",
       "      <td>1916.080078</td>\n",
       "      <td>1917.630859</td>\n",
       "      <td>1919.181641</td>\n",
       "      <td>1920.730469</td>\n",
       "      <td>1922.279297</td>\n",
       "      <td>1923.828125</td>\n",
       "      <td>1925.376953</td>\n",
       "      <td>1926.925781</td>\n",
       "    </tr>\n",
       "    <tr>\n",
       "      <th>2</th>\n",
       "      <td>HC4002</td>\n",
       "      <td>HC</td>\n",
       "      <td>0.058043</td>\n",
       "      <td>0.047805</td>\n",
       "      <td>0.031439</td>\n",
       "      <td>0.052827</td>\n",
       "      <td>0.039863</td>\n",
       "      <td>0.049907</td>\n",
       "      <td>0.044148</td>\n",
       "      <td>0.049463</td>\n",
       "      <td>...</td>\n",
       "      <td>0.016795</td>\n",
       "      <td>0.094428</td>\n",
       "      <td>0.068626</td>\n",
       "      <td>0.053191</td>\n",
       "      <td>0.077396</td>\n",
       "      <td>0.090592</td>\n",
       "      <td>0.026675</td>\n",
       "      <td>0.055424</td>\n",
       "      <td>0.034247</td>\n",
       "      <td>0.015763</td>\n",
       "    </tr>\n",
       "    <tr>\n",
       "      <th>3</th>\n",
       "      <td>NaN</td>\n",
       "      <td>HC</td>\n",
       "      <td>0.107335</td>\n",
       "      <td>0.093342</td>\n",
       "      <td>0.103085</td>\n",
       "      <td>0.091719</td>\n",
       "      <td>0.071561</td>\n",
       "      <td>0.104192</td>\n",
       "      <td>0.096174</td>\n",
       "      <td>0.081817</td>\n",
       "      <td>...</td>\n",
       "      <td>0.071877</td>\n",
       "      <td>0.139841</td>\n",
       "      <td>0.138047</td>\n",
       "      <td>0.151965</td>\n",
       "      <td>0.156756</td>\n",
       "      <td>0.187254</td>\n",
       "      <td>0.082185</td>\n",
       "      <td>0.122532</td>\n",
       "      <td>0.059179</td>\n",
       "      <td>0.025202</td>\n",
       "    </tr>\n",
       "    <tr>\n",
       "      <th>4</th>\n",
       "      <td>NaN</td>\n",
       "      <td>HC</td>\n",
       "      <td>0.053816</td>\n",
       "      <td>0.052437</td>\n",
       "      <td>0.042871</td>\n",
       "      <td>0.064361</td>\n",
       "      <td>0.031299</td>\n",
       "      <td>0.045848</td>\n",
       "      <td>0.041101</td>\n",
       "      <td>0.056550</td>\n",
       "      <td>...</td>\n",
       "      <td>0.026521</td>\n",
       "      <td>0.046298</td>\n",
       "      <td>0.045233</td>\n",
       "      <td>0.056291</td>\n",
       "      <td>0.060221</td>\n",
       "      <td>0.067202</td>\n",
       "      <td>0.032233</td>\n",
       "      <td>0.025676</td>\n",
       "      <td>0.005984</td>\n",
       "      <td>0.058483</td>\n",
       "    </tr>\n",
       "  </tbody>\n",
       "</table>\n",
       "<p>5 rows × 1012 columns</p>\n",
       "</div>"
      ],
      "text/plain": [
       "     Unnamed: 0  \\\n",
       "0     RS 532 nm   \n",
       "1  Sample names   \n",
       "2        HC4002   \n",
       "3           NaN   \n",
       "4           NaN   \n",
       "\n",
       "  Supplementary Table: Table S1:  Raw data of peak intensities at each peak position generated from RS and SERS from all TB-infection categories.    \\\n",
       "0                                                NaN                                                                                                  \n",
       "1                                             groups                                                                                                  \n",
       "2                                                 HC                                                                                                  \n",
       "3                                                 HC                                                                                                  \n",
       "4                                                 HC                                                                                                  \n",
       "\n",
       "   Unnamed: 2  Unnamed: 3  Unnamed: 4  Unnamed: 5  Unnamed: 6  Unnamed: 7  \\\n",
       "0         NaN         NaN         NaN         NaN         NaN         NaN   \n",
       "1  179.568359  181.511719  183.453125  185.394531  187.335938  189.275391   \n",
       "2    0.058043    0.047805    0.031439    0.052827    0.039863    0.049907   \n",
       "3    0.107335    0.093342    0.103085    0.091719    0.071561    0.104192   \n",
       "4    0.053816    0.052437    0.042871    0.064361    0.031299    0.045848   \n",
       "\n",
       "   Unnamed: 8  Unnamed: 9  ...  Unnamed: 1002  Unnamed: 1003  Unnamed: 1004  \\\n",
       "0         NaN         NaN  ...            NaN            NaN            NaN   \n",
       "1  191.214844  193.154297  ...    1912.980469    1914.531250    1916.080078   \n",
       "2    0.044148    0.049463  ...       0.016795       0.094428       0.068626   \n",
       "3    0.096174    0.081817  ...       0.071877       0.139841       0.138047   \n",
       "4    0.041101    0.056550  ...       0.026521       0.046298       0.045233   \n",
       "\n",
       "   Unnamed: 1005  Unnamed: 1006  Unnamed: 1007  Unnamed: 1008  Unnamed: 1009  \\\n",
       "0            NaN            NaN            NaN            NaN            NaN   \n",
       "1    1917.630859    1919.181641    1920.730469    1922.279297    1923.828125   \n",
       "2       0.053191       0.077396       0.090592       0.026675       0.055424   \n",
       "3       0.151965       0.156756       0.187254       0.082185       0.122532   \n",
       "4       0.056291       0.060221       0.067202       0.032233       0.025676   \n",
       "\n",
       "   Unnamed: 1010  Unnamed: 1011  \n",
       "0            NaN            NaN  \n",
       "1    1925.376953    1926.925781  \n",
       "2       0.034247       0.015763  \n",
       "3       0.059179       0.025202  \n",
       "4       0.005984       0.058483  \n",
       "\n",
       "[5 rows x 1012 columns]"
      ]
     },
     "execution_count": 2,
     "metadata": {},
     "output_type": "execute_result"
    }
   ],
   "source": [
    "df = pd.read_excel(\"1-s2.0-S2352340919312466-mmc1.xlsx\",skiprows=0)\n",
    "df.head()"
   ]
  },
  {
   "cell_type": "code",
   "execution_count": 3,
   "metadata": {},
   "outputs": [
    {
     "data": {
      "text/plain": [
       "Unnamed: 2        179.568359\n",
       "Unnamed: 3        181.511719\n",
       "Unnamed: 4        183.453125\n",
       "Unnamed: 5        185.394531\n",
       "Unnamed: 6        187.335938\n",
       "                    ...     \n",
       "Unnamed: 1007    1920.730469\n",
       "Unnamed: 1008    1922.279297\n",
       "Unnamed: 1009    1923.828125\n",
       "Unnamed: 1010    1925.376953\n",
       "Unnamed: 1011    1926.925781\n",
       "Name: 1, Length: 1010, dtype: object"
      ]
     },
     "execution_count": 3,
     "metadata": {},
     "output_type": "execute_result"
    }
   ],
   "source": [
    "df.iloc[1,2:]"
   ]
  },
  {
   "cell_type": "code",
   "execution_count": 4,
   "metadata": {},
   "outputs": [],
   "source": [
    "X, y = df.iloc[2:1842, 2:], df.iloc[2:1842, 1]"
   ]
  },
  {
   "cell_type": "code",
   "execution_count": 5,
   "metadata": {},
   "outputs": [],
   "source": [
    "target=y.values.tolist()\n",
    "label_encoder = LabelEncoder()\n",
    "y_classification = label_encoder.fit_transform(target)"
   ]
  },
  {
   "cell_type": "code",
   "execution_count": 6,
   "metadata": {},
   "outputs": [
    {
     "data": {
      "text/plain": [
       "(1840,)"
      ]
     },
     "execution_count": 6,
     "metadata": {},
     "output_type": "execute_result"
    }
   ],
   "source": [
    "y_classification.shape"
   ]
  },
  {
   "cell_type": "code",
   "execution_count": 7,
   "metadata": {},
   "outputs": [
    {
     "data": {
      "text/plain": [
       "(1840, 1010)"
      ]
     },
     "execution_count": 7,
     "metadata": {},
     "output_type": "execute_result"
    }
   ],
   "source": [
    "X_array = np.array(X)\n",
    "X_array.shape"
   ]
  },
  {
   "cell_type": "code",
   "execution_count": 8,
   "metadata": {},
   "outputs": [],
   "source": [
    "np.save(\"x.npy\", X_array)\n",
    "np.save(\"y.npy\", y_classification)"
   ]
  }
 ],
 "metadata": {
  "kernelspec": {
   "display_name": "Python 3.8.8 ('base')",
   "language": "python",
   "name": "python3"
  },
  "language_info": {
   "codemirror_mode": {
    "name": "ipython",
    "version": 3
   },
   "file_extension": ".py",
   "mimetype": "text/x-python",
   "name": "python",
   "nbconvert_exporter": "python",
   "pygments_lexer": "ipython3",
   "version": "3.8.8"
  },
  "orig_nbformat": 4,
  "vscode": {
   "interpreter": {
    "hash": "ec3b6344b8b3f6c3db1463248c46b8920f4fc68f6187e2c1e71f56a52299e245"
   }
  }
 },
 "nbformat": 4,
 "nbformat_minor": 2
}
